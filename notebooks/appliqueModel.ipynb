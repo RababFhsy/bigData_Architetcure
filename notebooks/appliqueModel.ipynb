﻿{
  "metadata": {
    "name": "appliqueModel",
    "kernelspec": {
      "language": "scala",
      "name": "spark2-scala"
    },
    "language_info": {
      "codemirror_mode": "text/x-scala",
      "file_extension": ".scala",
      "mimetype": "text/x-scala",
      "name": "scala",
      "pygments_lexer": "scala"
    }
  },
  "nbformat": 4,
  "nbformat_minor": 2,
  "cells": [
    {
      "cell_type": "code",
      "execution_count": 0,
      "metadata": {
        "autoscroll": "auto"
      },
      "outputs": [],
      "source": "import subprocess\r\n\r\npackages_to_install \u003d [\r\n    \u0027pyspark\u0027,\r\n    \u0027protobuf\u003d\u003d3.20.2\u0027,\r\n    \u0027onnx\u003d\u003d1.10.1\u0027,\r\n    \u0027onnxmltools\u003d\u003d1.9.0\u0027,\r\n    \u0027scikit-learn\u0027,\r\n    \u0027skl2onnx\u0027,\r\n    \u0027pandas\u0027,\r\n    \u0027onnxruntime\u0027,\r\n]\r\n\r\nfor package in packages_to_install:\r\n    subprocess.run([\u0027pip\u0027, \u0027install\u0027, package])\r\n"
    },
    {
      "cell_type": "code",
      "execution_count": 1,
      "metadata": {
        "autoscroll": "auto"
      },
      "outputs": [],
      "source": "import subprocess\r\n\r\npackages_to_install \u003d [\r\n    \u0027pyhive\u0027,\r\n    \u0027thrift\u0027,\r\n]\r\n\r\nfor package in packages_to_install:\r\n    subprocess.run([\u0027pip\u0027, \u0027install\u0027, package])"
    },
    {
      "cell_type": "code",
      "execution_count": 2,
      "metadata": {
        "autoscroll": "auto"
      },
      "outputs": [],
      "source": "%python\nimport pandas as pd\nfrom pyhive import hive\nimport onnxruntime\n"
    },
    {
      "cell_type": "code",
      "execution_count": 3,
      "metadata": {
        "autoscroll": "auto"
      },
      "outputs": [],
      "source": "%python\r\n# Load your sentiment analysis model\r\nmodel_path \u003d \"/opt/zeppelin/modelNLP.onnx\"\r\nsession \u003d onnxruntime.InferenceSession(model_path)\r\n"
    },
    {
      "cell_type": "code",
      "execution_count": 4,
      "metadata": {
        "autoscroll": "auto"
      },
      "outputs": [],
      "source": "%python\n# Hive connection function\ndef get_hive_data(query):\n    try:\n        connection \u003d hive.Connection(host\u003d\u0027hive-server\u0027, port\u003d10000, database\u003d\"default\")\n        cursor \u003d connection.cursor()\n        cursor.execute(query)\n        result \u003d cursor.fetchall()\n        description \u003d cursor.description  # Get column names\n        connection.close()\n        print(\"The comments selected from Hive successfully\")\n        return result, description\n\n    except Exception as hive_error:\n        print(f\"Hive Connection Error: {hive_error}\")\n        return None, None\n"
    },
    {
      "cell_type": "code",
      "execution_count": 5,
      "metadata": {
        "autoscroll": "auto"
      },
      "outputs": [],
      "source": "%python\n# Construct the Hive query with the entered product name\nhive_query \u003d \"SELECT * FROM datatest1\"\n\n# Fetch data from Hive\ndata, description \u003d get_hive_data(hive_query)"
    }
  ]
}